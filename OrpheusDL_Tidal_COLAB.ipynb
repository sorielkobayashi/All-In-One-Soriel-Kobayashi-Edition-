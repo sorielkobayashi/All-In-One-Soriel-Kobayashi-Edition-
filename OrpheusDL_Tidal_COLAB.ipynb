{
  "nbformat": 4,
  "nbformat_minor": 0,
  "metadata": {
    "colab": {
      "provenance": [],
      "authorship_tag": "ABX9TyMCNbX/oevLCmCM7BppnezN",
      "include_colab_link": true
    },
    "kernelspec": {
      "name": "python3",
      "display_name": "Python 3"
    },
    "language_info": {
      "name": "python"
    }
  },
  "cells": [
    {
      "cell_type": "markdown",
      "metadata": {
        "id": "view-in-github",
        "colab_type": "text"
      },
      "source": [
        "<a href=\"https://colab.research.google.com/github/sorielkobayashi/All-In-One-Soriel-Kobayashi-Edition-/blob/main/OrpheusDL_Tidal_COLAB.ipynb\" target=\"_parent\"><img src=\"https://colab.research.google.com/assets/colab-badge.svg\" alt=\"Open In Colab\"/></a>"
      ]
    },
    {
      "cell_type": "code",
      "source": [
        "from google.colab import drive\n",
        "drive.mount('/content/drive')\n",
        "!apt-get install git\n",
        "!git clone https://github.com/OrfiTeam/OrpheusDL.git /content/drive/MyDrive/Orpheus\n",
        "%cd /content/drive/MyDrive/Orpheus\n",
        "!pip install -r requirements.txt\n",
        "!git clone --recurse-submodules https://github.com/Dniel97/orpheusdl-tidal.git modules/tidal\n",
        "!python3 orpheus.py settings refresh\n",
        "print(\"Instalación satisfactoria\")"
      ],
      "metadata": {
        "id": "cQp6VQfYahVz"
      },
      "execution_count": null,
      "outputs": []
    },
    {
      "cell_type": "code",
      "source": [
        "!python3 orpheus.py --help\n",
        "\n"
      ],
      "metadata": {
        "colab": {
          "base_uri": "https://localhost:8080/"
        },
        "id": "Aa2cVjjEalsD",
        "outputId": "c8df58c1-cdc4-4b20-f34f-c94d9964639b"
      },
      "execution_count": 8,
      "outputs": [
        {
          "output_type": "stream",
          "name": "stdout",
          "text": [
            "\n",
            "   ____             _                    _____  _      \n",
            "  / __ \\           | |                  |  __ \\| |     \n",
            " | |  | |_ __ _ __ | |__   ___ _   _ ___| |  | | |     \n",
            " | |  | | '__| '_ \\| '_ \\ / _ \\ | | / __| |  | | |     \n",
            " | |__| | |  | |_) | | | |  __/ |_| \\__ \\ |__| | |____ \n",
            "  \\____/|_|  | .__/|_| |_|\\___|\\__,_|___/_____/|______|\n",
            "             | |                                       \n",
            "             |_|                                       \n",
            "             \n",
            "            \n",
            "usage: orpheus.py [-h] [-o OUTPUT] [-lr LYRICS] [-cv COVERS] [-cr CREDITS] [-sd SEPARATEDOWNLOAD]\n",
            "                  [arguments ...]\n",
            "\n",
            "Orpheus: modular music archival\n",
            "\n",
            "positional arguments:\n",
            "  arguments             Use \"settings [option]\" for orpheus controls (coreupdate, fullupdate,\n",
            "                        modinstall), \"settings [module][option]\" for module specific options\n",
            "                        (update, test, setup), searching by \"[search/luckysearch]\n",
            "                        [module][track/artist/playlist/album] [query]\", or just putting in urls.\n",
            "                        (you may need to wrap the URLs in doublequotes if you have issues\n",
            "                        downloading)\n",
            "\n",
            "options:\n",
            "  -h, --help            show this help message and exit\n",
            "  -o OUTPUT, --output OUTPUT\n",
            "                        Select a download output path. Default is the provided download path in\n",
            "                        config/settings.py\n",
            "  -lr LYRICS, --lyrics LYRICS\n",
            "                        Set module to get lyrics from\n",
            "  -cv COVERS, --covers COVERS\n",
            "                        Override module to get covers from\n",
            "  -cr CREDITS, --credits CREDITS\n",
            "                        Override module to get credits from\n",
            "  -sd SEPARATEDOWNLOAD, --separatedownload SEPARATEDOWNLOAD\n",
            "                        Select a different module that will download the playlist instead of the\n",
            "                        main module. Only for playlists.\n"
          ]
        }
      ]
    }
  ]
}