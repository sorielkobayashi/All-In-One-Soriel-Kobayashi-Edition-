{
  "nbformat": 4,
  "nbformat_minor": 0,
  "metadata": {
    "colab": {
      "name": "All in One Colab Notebook.ipynb",
      "provenance": [],
      "include_colab_link": true
    },
    "kernelspec": {
      "name": "python3",
      "display_name": "Python 3"
    },
    "language_info": {
      "name": "python"
    }
  },
  "cells": [
    {
      "cell_type": "markdown",
      "metadata": {
        "id": "view-in-github",
        "colab_type": "text"
      },
      "source": [
        "<a href=\"https://colab.research.google.com/github/sorielkobayashi/All-In-One-Soriel-Kobayashi-Edition-/blob/main/All%20In%20One%20(SK%20Edition).ipynb\" target=\"_parent\"><img src=\"https://colab.research.google.com/assets/colab-badge.svg\" alt=\"Open In Colab\"/></a>"
      ]
    },
    {
      "cell_type": "markdown",
      "source": [
        "# __Mount Google Drive__"
      ],
      "metadata": {
        "id": "qC6PmtJYyK2A"
      }
    },
    {
      "cell_type": "code",
      "source": [
        "#@markdown <br><center><img src='https://raw.githubusercontent.com/dropcreations/Essential-Google-Colab-Notebook/0b62cd8a437d3439a1dbece9119b73bfa890ad1a/cell_logos/Google-Drive-Logo.svg' height=\"50\" alt=\"Gdrive-logo\"/></center>\n",
        "#@markdown <center><h3><b>Mount Google Drive</b></h3></center><br>\n",
        "MODE = \"MOUNT\" #@param [\"MOUNT\", \"UNMOUNT\"]\n",
        "#Mount your Gdrive! \n",
        "from google.colab import drive\n",
        "drive.mount._DEBUG = False\n",
        "if MODE == \"MOUNT\":\n",
        "  drive.mount('/content/drive', force_remount=True)\n",
        "elif MODE == \"UNMOUNT\":\n",
        "  try:\n",
        "    drive.flush_and_unmount()\n",
        "  except ValueError:\n",
        "    pass\n",
        "  get_ipython().system_raw(\"rm -rf /root/.config/Google/DriveFS\")"
      ],
      "metadata": {
        "cellView": "form",
        "id": "0Il1pfgPyP7c",
        "colab": {
          "base_uri": "https://localhost:8080/"
        },
        "outputId": "f8eb31e3-af99-42e8-d44e-61474c58ffd9"
      },
      "execution_count": 1,
      "outputs": [
        {
          "output_type": "stream",
          "name": "stdout",
          "text": [
            "Mounted at /content/drive\n"
          ]
        }
      ]
    },
    {
      "cell_type": "markdown",
      "source": [
        "# __Redsea Tidal Downloader__"
      ],
      "metadata": {
        "id": "ZKCHBZh0m8Yg"
      }
    },
    {
      "cell_type": "markdown",
      "source": [
        "* Enter folder path where you want to **save** files.\n",
        "* Run below cell to **clone** and **install** dependencies for Redsea respository."
      ],
      "metadata": {
        "id": "snV_ZcLym-si"
      }
    },
    {
      "cell_type": "code",
      "source": [
        "import os\n",
        "from IPython.display import clear_output\n",
        "savePath = \"/content/drive/MyDrive/redsea\" #@param {type:\"string\"}\n",
        "os.chdir(savePath)\n",
        "!git clone https://github.com/Dniel97/RedSea.git\n",
        "!mv \"{savePath}/RedSea/config/settings.example.py\" \"{savePath}/RedSea/config/settings.py\"\n",
        "!apt update\n",
        "!apt install python3 ffmpeg\n",
        "redseaPath = os.path.join(savePath, \"RedSea\")\n",
        "redseaScript = os.path.join(redseaPath, \"redsea.py\")\n",
        "os.chdir(redseaPath)\n",
        "!pip install -r requirements.txt\n",
        "clear_output()\n",
        "print(\"Successfully Installed.\")\n",
        "\n",
        "from IPython.display import clear_output\n",
        "!sudo apt update\n",
        "!sudo apt install p7zip-full p7zip-rar unrar rar\n",
        "clear_output()\n",
        "print(\"Successfully Installed.\")"
      ],
      "metadata": {
        "cellView": "form",
        "id": "cXE454sfnAvA",
        "colab": {
          "base_uri": "https://localhost:8080/"
        },
        "outputId": "a24760ae-9c19-48a5-ee2d-49367ef10e3b"
      },
      "execution_count": 2,
      "outputs": [
        {
          "output_type": "stream",
          "name": "stdout",
          "text": [
            "Successfully Installed.\n"
          ]
        }
      ]
    },
    {
      "cell_type": "markdown",
      "source": [
        "* Run below cell to manage **sessions**."
      ],
      "metadata": {
        "id": "5WSwqiXQnDyX"
      }
    },
    {
      "cell_type": "markdown",
      "source": [
        "* `list` - Lists stored sessions if any exist.\n",
        "* `remove` - Removes a stored session from the sessions file by name.\n",
        "* `default` - Set a default account for redsea to use when the -a flag has not been passed.\n",
        "* `reauth` - Reauthenticates with server to get new sessionId.\n",
        "* `add` - Prompts for a TV, Mobile or Desktop session. The TV option displays a 6 digit key which should be entered inside link.tidal.com where the user can login. The Mobile/Desktop option prompts for a Tidal username and password. Both options authorize a session which then gets stored in the sessions file."
      ],
      "metadata": {
        "id": "0kRycO2lnF4Y"
      }
    },
    {
      "cell_type": "code",
      "source": [
        "session = \"add\" #@param [\"list\", \"add\", \"remove\", \"default\", \"reauth\"]\n",
        "!python3 \"{redseaScript}\" auth {session}"
      ],
      "metadata": {
        "cellView": "form",
        "id": "pblALzS1nI1P"
      },
      "execution_count": null,
      "outputs": []
    },
    {
      "cell_type": "markdown",
      "source": [
        "* Enter **sessionName** that you created in above cell.\n",
        "* Enter **album/track/playlist/video link** or **links** to download.\n",
        "* Separate multiple urls by **spaces**.\n",
        "> **eg:** `url: [url_01] [url_02] [url_03] [url_04]...`\n",
        "* Files will be in **\"RedSea/downloads\"** in your save location.\n",
        "* You can **explore** for available **atmos / 360 albums and tracks**.\n",
        "* Check \"explore\" and select a \"**explore_type**\".\n",
        "* You can also search for **track/album/video**, use **search options**.\n",
        "* You can use explore or search, **not both at once**."
      ],
      "metadata": {
        "id": "q4Z4gIgDnLxR"
      }
    },
    {
      "cell_type": "code",
      "source": [
        "sessionName = \"\" #@param {type:\"string\"}\n",
        "url = \"\" #@param {type:\"string\"}\n",
        "sessionDefault = True #@param {type:\"boolean\"}\n",
        "explore = False #@param {type:\"boolean\"}\n",
        "exploreType = \"atmos albums\" #@param [\"atmos albums\", \"atmos tracks\", \"360 albums\", \"360 tracks\"]\n",
        "search = False #@param {type:\"boolean\"}\n",
        "searchType = \"track\" #@param [\"track\", \"album\", \"video\"]\n",
        "searchFor = \"\" #@param {type:\"string\"}\n",
        "\n",
        "commandLine = '\"' + redseaScript + '\" '\n",
        "\n",
        "if sessionDefault == False:\n",
        "  commandLine = commandLine + '-a \"' + sessionName + '\" '\n",
        "if explore == True:\n",
        "  commandLine = commandLine + 'explore ' + exploreType\n",
        "elif search == True:\n",
        "  commandLine = commandLine + 'search ' + searchType + ' ' + searchFor\n",
        "if search == False and explore == False:\n",
        "  commandLine = commandLine + url\n",
        "!python3 {commandLine}"
      ],
      "metadata": {
        "cellView": "form",
        "id": "NTDusUaonO-v"
      },
      "execution_count": null,
      "outputs": []
    },
    {
      "cell_type": "markdown",
      "source": [
        "* If you have **already cloned and used** Redsea reop, enter the \"**RedSea**\" folder path and run below cell.\n",
        "* Then you can run above cells again **without authentication**. **[Session & Download cells]**"
      ],
      "metadata": {
        "id": "VPTmH7AbJrH2"
      }
    },
    {
      "cell_type": "code",
      "source": [
        "import os\n",
        "from IPython.display import clear_output\n",
        "locatePath = \"\" #@param {type:\"string\"}\n",
        "os.chdir(locatePath)\n",
        "!apt update\n",
        "!apt install python3 ffmpeg\n",
        "!pip install -r requirements.txt\n",
        "redseaPath = locatePath\n",
        "redseaScript = os.path.join(redseaPath, \"redsea.py\")\n",
        "clear_output()\n",
        "print(\"Successfully Restarted.\")"
      ],
      "metadata": {
        "cellView": "form",
        "id": "H4oTGBYnKPqi"
      },
      "execution_count": null,
      "outputs": []
    },
    {
      "cell_type": "markdown",
      "source": [
        "# __Mediainfo__"
      ],
      "metadata": {
        "id": "cPHFdW8JBarF"
      }
    },
    {
      "cell_type": "markdown",
      "source": [
        "* Run below cell to **get** mediainfo."
      ],
      "metadata": {
        "id": "f-g4NITYBdU1"
      }
    },
    {
      "cell_type": "code",
      "source": [
        "#@markdown <br><center><img src='https://github.com/dropcreations/Essential-Google-Colab-Notebook/blob/main/cell_logos/Mediainfo-Logo.png?raw=true' height=\"40\" alt=\"Mediainfo-logo\"/></center>\n",
        "#@markdown <center><h3><b>Mediainfo</b></h3></center><br>\n",
        "\n",
        "mediaFile = \"\" #@param {type:\"string\"}\n",
        "\n",
        "import os\n",
        "from IPython.display import clear_output\n",
        "\n",
        "if os.path.isfile(\"/usr/bin/mediainfo\") is False:\n",
        "  !sudo apt update\n",
        "  !sudo apt install mediainfo\n",
        "  clear_output()\n",
        "!mediainfo \"{mediaFile}\""
      ],
      "metadata": {
        "id": "8esWDtFOBqVv",
        "cellView": "form"
      },
      "execution_count": null,
      "outputs": []
    },
    {
      "cell_type": "markdown",
      "metadata": {
        "id": "a5yFVoov3OG0"
      },
      "source": [
        "# __Spleeter Colab__\n",
        "\n",
        "Esta es una extensión para [Deezer Spleeter](https://github.com/deezer/spleeter) que se ejecuta en Google Colab, utilizando Google Drive como almacenamiento de datos.\n",
        "\n",
        "El valor de `input` puede ser\n",
        "1.   Ruta a un archivo de audio individual ubicado en su Google Drive.\n",
        "2.   Ruta a un directorio en su Google Drive que contenga varios archivos de audio. Cada archivo de audio encontrado en el directorio será procesado individualmente.\n",
        "3.   URL individual de YouTube\n",
        "4.   Múltiples URLs de YouTube separadas por espacios. Cada vídeo de YouTube será procesado individualmente.\n",
        "\n",
        "La entrada será separada en 4 stems: voz, batería, bajo y otros. Los stems se guardarán como archivos WAV en su Google Drive. Introduzca `output_dir` relativo a su raíz de Google Drive."
      ]
    },
    {
      "cell_type": "code",
      "execution_count": null,
      "metadata": {
        "id": "hoOtlvKx3NY_",
        "cellView": "form"
      },
      "outputs": [],
      "source": [
        "#@title Setup\n",
        "#@markdown This cell needs to be run only once. It will mount your Google Drive and setup prerequisites.\n",
        "# <br><center><img src='https://raw.githubusercontent.com/dropcreations/7zip-in-Google-Colab/main/7zip-Logo.png' height=\"50\" alt=\"7zip-logo\"/></center>\n",
        "# <center><h3><b>Install 7-Zip</b></h3></center><br>\n",
        "from IPython.display import clear_output\n",
        "!sudo apt update\n",
        "!sudo apt install p7zip-full p7zip-rar unrar rar\n",
        "clear_output()\n",
        "print(\"Successfully Installed.\")\n",
        "\n",
        "import os\n",
        "from google.colab import drive, output\n",
        "drive.mount('/content/drive')\n",
        "drive_root = '/content/drive/MyDrive/'\n",
        "\n",
        "# inhagcutils\n",
        "!pip -q install import-ipynb\n",
        "!curl -s -O https://raw.githubusercontent.com/olaviinha/inhagcutils/master/inhagcutils.ipynb\n",
        "import import_ipynb\n",
        "from inhagcutils import *\n",
        "!gsutil -q -m cp -R gs://neural-research/olaviinha/spleeter-configs/custom-4stems-22kHz-z.json /content/cfg.json\n",
        "\n",
        "#@title Install\n",
        "!apt -q install ffmpeg\n",
        "!pip -q install spleeter\n",
        "\n",
        "output.clear()\n",
        "print('Using config gs://neural-research/olaviinha/spleeter-configs/custom-4stems-22kHz-z.json')\n",
        "op(c.ok, 'Setup finished.')\n"
      ]
    },
    {
      "cell_type": "code",
      "execution_count": null,
      "metadata": {
        "cellView": "form",
        "id": "sbxOfF0t3RYh",
        "outputId": "b9625d41-de52-4510-dffb-a6c1c1a568b6",
        "colab": {
          "base_uri": "https://localhost:8080/"
        }
      },
      "outputs": [
        {
          "output_type": "stream",
          "name": "stdout",
          "text": [
            "tcmalloc: large alloc 1153531904 bytes == 0xa3746000 @  0x7ff12ad021e7 0x7ff0f71c116a 0x7ff0fa239be3 0x7ff0fa71c736 0x7ff0fa76c1b8 0x7ff0fa76ddb3 0x7ff0fa76f1e2 0x7ff0fa7710df 0x7ff0fa775cd2 0x7ff0fa776088 0x7ff0ee94864b 0x7ff0ee8ec060 0x7ff0ee8d6aae 0x7ff0fc634dd5 0x7ff0fc632b03 0x7ff0ef03633b 0x7ff12a6c66db 0x7ff12a9ff61f\n",
            "tcmalloc: large alloc 2306973696 bytes == 0xcf746000 @  0x7ff12ad021e7 0x7ff0f71c116a 0x7ff0fa239be3 0x7ff0fa71c736 0x7ff0fa76c1b8 0x7ff0fa76ddb3 0x7ff0fa76f1e2 0x7ff0fa7710df 0x7ff0fa775cd2 0x7ff0fa776088 0x7ff0ee94864b 0x7ff0ee8ec060 0x7ff0ee8d6aae 0x7ff0fc634dd5 0x7ff0fc632b03 0x7ff0ef03633b 0x7ff12a6c66db 0x7ff12a9ff61f\n",
            "tcmalloc: large alloc 2306973696 bytes == 0x1c1fa6000 @  0x7ff12ad021e7 0x7ff0f71c116a 0x7ff0fa239be3 0x7ff0fa71c736 0x7ff0fa76c1b8 0x7ff0fa76ddb3 0x7ff0fa76f1e2 0x7ff0fa7710df 0x7ff0fa775cd2 0x7ff0fa776088 0x7ff0ee94864b 0x7ff0ee8ec060 0x7ff0ee8d6aae 0x7ff0fc634dd5 0x7ff0fc632b03 0x7ff0ef03633b 0x7ff12a6c66db 0x7ff12a9ff61f\n",
            "tcmalloc: large alloc 2306973696 bytes == 0xcf74a000 @  0x7ff12ad021e7 0x7ff0f71c116a 0x7ff0fa239be3 0x7ff0fa71c736 0x7ff0fa76c1b8 0x7ff0fa76ddb3 0x7ff0fa76f1e2 0x7ff0fa7710df 0x7ff0fa775cd2 0x7ff0fa776088 0x7ff0ee94864b 0x7ff0ee8ec060 0x7ff0ee8d6aae 0x7ff0fc634dd5 0x7ff0fc632b03 0x7ff0ef03633b 0x7ff12a6c66db 0x7ff12a9ff61f\n",
            "tcmalloc: large alloc 2306973696 bytes == 0x8d746000 @  0x7ff12ad021e7 0x7ff0f71c116a 0x7ff0fa239be3 0x7ff0fa71c736 0x7ff0fa76c1b8 0x7ff0fa76ddb3 0x7ff0fa76f1e2 0x7ff0fa7710df 0x7ff0fa775cd2 0x7ff0fa776088 0x7ff0ee94864b 0x7ff0ee8ec060 0x7ff0ee8d6aae 0x7ff0fc634dd5 0x7ff0fc632b03 0x7ff0ef03633b 0x7ff12a6c66db 0x7ff12a9ff61f\n",
            "INFO:spleeter:File /content/drive/MyDrive/s7ems/Mundo De Caramelo - Danna Paola/vocals.flac written succesfully\n",
            "INFO:spleeter:File /content/drive/MyDrive/s7ems/Mundo De Caramelo - Danna Paola/vocals.flac written succesfully\n",
            "INFO:spleeter:File /content/drive/MyDrive/s7ems/Mundo De Caramelo - Danna Paola/drums.flac written succesfully\n",
            "INFO:spleeter:File /content/drive/MyDrive/s7ems/Mundo De Caramelo - Danna Paola/drums.flac written succesfully\n",
            "INFO:spleeter:File /content/drive/MyDrive/s7ems/Mundo De Caramelo - Danna Paola/bass.flac written succesfully\n",
            "INFO:spleeter:File /content/drive/MyDrive/s7ems/Mundo De Caramelo - Danna Paola/bass.flac written succesfully\n",
            "INFO:spleeter:File /content/drive/MyDrive/s7ems/Mundo De Caramelo - Danna Paola/other.flac written succesfully\n",
            "INFO:spleeter:File /content/drive/MyDrive/s7ems/Mundo De Caramelo - Danna Paola/other.flac written succesfully\n",
            "\u001b[92mFIN.\u001b[0m Files saved under directory /s7ems/Mundo De Caramelo - Danna Paola/\n"
          ]
        }
      ],
      "source": [
        "#@title Separar\n",
        "\n",
        "input = \"\" #@param {type:\"string\"}\n",
        "output_dir = \"/s7ems\" #@param {type:\"string\"}\n",
        "\n",
        "#----------------------------------------------------------------------------#\n",
        "\n",
        "import os\n",
        "from os.path import isfile, join\n",
        "from glob import glob\n",
        "\n",
        "input_type = check_input_type(input)\n",
        "tmp_dir = '/content/tmp/'\n",
        "seps_dir = fix_path(drive_root+output_dir)\n",
        "#seps_dir = '/content/tmp/seps'\n",
        "\n",
        "if not os.path.isdir(tmp_dir):\n",
        "  create_dirs([tmp_dir])\n",
        "# if not os.path.isdir(output_dir):\n",
        "#   create_dirs([seps_dir])\n",
        "\n",
        "if output_dir == '' or output_dir == 'same':\n",
        "  output_dir = fix_path(drive_root+path_dir(input))\n",
        "else:\n",
        "  output_dir = fix_path(drive_root+output_dir)\n",
        "  if not os.path.isdir(output_dir):\n",
        "    create_dirs([output_dir])\n",
        "\n",
        "if input_type == 'unknown':\n",
        "  input = drive_root+input\n",
        "  input_type = check_input_type(input)\n",
        "  if input_type=='dir':\n",
        "    input = fix_path(input)\n",
        "\n",
        "if input_type == 'youtube':\n",
        "  !pip -q install youtube-dl\n",
        "  !youtube-dl --restrict-filenames -x --no-continue --audio-format flac -o \"{tmp_dir}%(title)s.%(ext)s\" {input}\n",
        "\n",
        "from spleeter.separator import Separator\n",
        "separator = Separator('/content/cfg.json')\n",
        "\n",
        "if input_type == \"dir\" or input_type == \"youtube\":\n",
        "  if input_type == \"dir\":\n",
        "    target = input\n",
        "  if input_type == \"youtube\":\n",
        "    target = dir_tmp\n",
        "  file_list = list_audio(target)\n",
        "  for audiofile in file_list:\n",
        "    op(c.title, '\\nSeparate '+audiofile+' to '+seps_dir.replace(drive_root, '')+basename(input))\n",
        "    # Spleeter Python API is outdated for Colab\n",
        "    # separator.separate_to_file(audiofile, seps_dir)\n",
        "    !spleeter separate -p /content/cfg.json -c flac -d 666 -o \"{output_dir}\" \"{audiofile}\"\n",
        "    op(c.ok, 'FIN.', 'Files saved under directory '+output_dir.replace(drive_root, '')+basename(audiofile)+'/')\n",
        "elif input_type == \"file\":\n",
        "  # Spleeter Python API is outdated for Colab\n",
        "  # separator.separate_to_file(input, seps_dir)\n",
        "  !spleeter separate -p /content/cfg.json -c wav -d 666 -o \"{seps_dir}\" \"{input}\"\n",
        "  op(c.ok, 'FIN.', 'Files saved under directory '+output_dir.replace(drive_root, '')+basename(input)+'/')\n",
        "else:\n",
        "  print(\"We're not sure what you want to separate. Please check the input field.\")"
      ]
    },
    {
      "cell_type": "markdown",
      "source": [
        "# __7Zip__"
      ],
      "metadata": {
        "id": "vvap9diNunFQ"
      }
    },
    {
      "cell_type": "code",
      "source": [
        "#@title Comprimir\n",
        "import os\n",
        "\n",
        "sourcePath = \"/content/drive/MyDrive/s7ems/Mundo De Caramelo - Danna Paola\" #@param {type:\"string\"}\n",
        "compressType = \"7z\" #@param [\"zip\", \"7z\", \"tar\", \"gzip\", \"bzip2\", \"xz\", \"wim\"]\n",
        "Password = \"\" #@param {type:\"string\"}\n",
        "Split = \"no\" #@param [\"no\", \"10m\", \"100m\", \"500m\", \"1g\", \"2g\"] {allow-input: true}\n",
        "compressLevel = 9 #@param {type:\"slider\", min:0, max:9, step:1}\n",
        "saveToSourceLocation = True #@param {type:\"boolean\"}\n",
        "\n",
        "commandLine = \"-t\" + compressType + \" -mx=\" + str(compressLevel)\n",
        "\n",
        "if len(Password) > 0:\n",
        "    commandLine = commandLine + \" -p\" + '\"' + Password + '\"'\n",
        "\n",
        "if Split is not \"no\":\n",
        "    commandLine = commandLine + \" -v\" + '\"' + Split + '\"'\n",
        "\n",
        "if os.path.isfile(sourcePath) is True:\n",
        "    sourceName = os.path.splitext(os.path.basename(os.path.abspath(sourcePath)))[0]\n",
        "    sourceFolder = os.path.dirname(os.path.abspath(sourcePath))\n",
        "else:\n",
        "    sourceName = os.path.split(os.path.abspath(sourcePath))[1]\n",
        "    sourceFolder = os.path.split(os.path.abspath(sourcePath))[0]\n",
        "\n",
        "if saveToSourceLocation == True:\n",
        "    compressPath = os.path.join(sourceFolder, \"compressed\")\n",
        "    commandLine = commandLine + ' \"' + compressPath + '\"'\n",
        "else:\n",
        "    outputPath = input(\"outputPath: \")\n",
        "    if outputPath.endswith('.zip') or outputPath.endswith('.7z') or outputPath.endswith('.tar') or outputPath.endswith('.gz') or outputPath.endswith('.bz2') or outputPath.endswith('.xz') or outputPath.endswith('.wim'):\n",
        "        sourceName = os.path.splitext(os.path.basename(os.path.abspath(outputPath)))[0]\n",
        "        sourceFolder = os.path.dirname(os.path.abspath(outputPath))\n",
        "    else:\n",
        "        if os.path.exists(outputPath) is False:\n",
        "            os.makedirs(outputPath)\n",
        "        sourceFolder = outputPath\n",
        "    compressPath = os.path.join(sourceFolder, \"compressed\")\n",
        "    commandLine = commandLine + ' \"' + compressPath + '\"'\n",
        "\n",
        "if compressType == \"gzip\":\n",
        "    formatFile = \"gz\"\n",
        "elif compressType == \"bzip2\":\n",
        "    formatFile = \"bz2\"\n",
        "else:\n",
        "    formatFile = compressType\n",
        "\n",
        "!7z a {commandLine} \"{sourcePath}\"\n",
        "saveFile = os.path.join(sourceFolder, sourceName)\n",
        "compressPath = compressPath + '.' + formatFile\n",
        "saveFile = saveFile + '.' + formatFile\n",
        "os.rename(compressPath, saveFile)"
      ],
      "metadata": {
        "cellView": "form",
        "id": "l3rGCMOZugTT"
      },
      "execution_count": null,
      "outputs": []
    }
  ]
}